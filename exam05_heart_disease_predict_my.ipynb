{
  "nbformat": 4,
  "nbformat_minor": 0,
  "metadata": {
    "colab": {
      "provenance": [],
      "authorship_tag": "ABX9TyPFBLMUPaqsgBgx+k/KXv+S",
      "include_colab_link": true
    },
    "kernelspec": {
      "name": "python3",
      "display_name": "Python 3"
    },
    "language_info": {
      "name": "python"
    }
  },
  "cells": [
    {
      "cell_type": "markdown",
      "metadata": {
        "id": "view-in-github",
        "colab_type": "text"
      },
      "source": [
        "<a href=\"https://colab.research.google.com/github/triptocode/Angular-EcommerceWeb/blob/master/exam05_heart_disease_predict_my.ipynb\" target=\"_parent\"><img src=\"https://colab.research.google.com/assets/colab-badge.svg\" alt=\"Open In Colab\"/></a>"
      ]
    },
    {
      "cell_type": "code",
      "execution_count": null,
      "metadata": {
        "colab": {
          "base_uri": "https://localhost:8080/",
          "height": 206
        },
        "id": "sMhlzgbDh0OF",
        "outputId": "6de011f8-4e8e-4bf4-d04c-b97bff7fdf16"
      },
      "outputs": [
        {
          "output_type": "execute_result",
          "data": {
            "text/plain": [
              "   age  sex  cp  treshbps chol  fbs  restecg  thalach  exang  oldpeak  slope  \\\n",
              "0   63    1   1       145  233    1        2      150      0      2.3      3   \n",
              "1   67    1   4       160  286    0        0      108      1      1.5      2   \n",
              "2   67    1   4       120    ?    0        2      129      1      2.6      2   \n",
              "3   37    1   3       130  250    0        0      187      0      3.5      3   \n",
              "4   41    0   2       130  204    0        2      172      0      1.4      1   \n",
              "\n",
              "  ca thal  HeartDisease  \n",
              "0  0    6             0  \n",
              "1  3    3             1  \n",
              "2  2    7             1  \n",
              "3  0    3             0  \n",
              "4  0    3             0  "
            ],
            "text/html": [
              "\n",
              "  <div id=\"df-3ec5ba3f-70da-4406-97ef-41b4d5a8dbcf\" class=\"colab-df-container\">\n",
              "    <div>\n",
              "<style scoped>\n",
              "    .dataframe tbody tr th:only-of-type {\n",
              "        vertical-align: middle;\n",
              "    }\n",
              "\n",
              "    .dataframe tbody tr th {\n",
              "        vertical-align: top;\n",
              "    }\n",
              "\n",
              "    .dataframe thead th {\n",
              "        text-align: right;\n",
              "    }\n",
              "</style>\n",
              "<table border=\"1\" class=\"dataframe\">\n",
              "  <thead>\n",
              "    <tr style=\"text-align: right;\">\n",
              "      <th></th>\n",
              "      <th>age</th>\n",
              "      <th>sex</th>\n",
              "      <th>cp</th>\n",
              "      <th>treshbps</th>\n",
              "      <th>chol</th>\n",
              "      <th>fbs</th>\n",
              "      <th>restecg</th>\n",
              "      <th>thalach</th>\n",
              "      <th>exang</th>\n",
              "      <th>oldpeak</th>\n",
              "      <th>slope</th>\n",
              "      <th>ca</th>\n",
              "      <th>thal</th>\n",
              "      <th>HeartDisease</th>\n",
              "    </tr>\n",
              "  </thead>\n",
              "  <tbody>\n",
              "    <tr>\n",
              "      <th>0</th>\n",
              "      <td>63</td>\n",
              "      <td>1</td>\n",
              "      <td>1</td>\n",
              "      <td>145</td>\n",
              "      <td>233</td>\n",
              "      <td>1</td>\n",
              "      <td>2</td>\n",
              "      <td>150</td>\n",
              "      <td>0</td>\n",
              "      <td>2.3</td>\n",
              "      <td>3</td>\n",
              "      <td>0</td>\n",
              "      <td>6</td>\n",
              "      <td>0</td>\n",
              "    </tr>\n",
              "    <tr>\n",
              "      <th>1</th>\n",
              "      <td>67</td>\n",
              "      <td>1</td>\n",
              "      <td>4</td>\n",
              "      <td>160</td>\n",
              "      <td>286</td>\n",
              "      <td>0</td>\n",
              "      <td>0</td>\n",
              "      <td>108</td>\n",
              "      <td>1</td>\n",
              "      <td>1.5</td>\n",
              "      <td>2</td>\n",
              "      <td>3</td>\n",
              "      <td>3</td>\n",
              "      <td>1</td>\n",
              "    </tr>\n",
              "    <tr>\n",
              "      <th>2</th>\n",
              "      <td>67</td>\n",
              "      <td>1</td>\n",
              "      <td>4</td>\n",
              "      <td>120</td>\n",
              "      <td>?</td>\n",
              "      <td>0</td>\n",
              "      <td>2</td>\n",
              "      <td>129</td>\n",
              "      <td>1</td>\n",
              "      <td>2.6</td>\n",
              "      <td>2</td>\n",
              "      <td>2</td>\n",
              "      <td>7</td>\n",
              "      <td>1</td>\n",
              "    </tr>\n",
              "    <tr>\n",
              "      <th>3</th>\n",
              "      <td>37</td>\n",
              "      <td>1</td>\n",
              "      <td>3</td>\n",
              "      <td>130</td>\n",
              "      <td>250</td>\n",
              "      <td>0</td>\n",
              "      <td>0</td>\n",
              "      <td>187</td>\n",
              "      <td>0</td>\n",
              "      <td>3.5</td>\n",
              "      <td>3</td>\n",
              "      <td>0</td>\n",
              "      <td>3</td>\n",
              "      <td>0</td>\n",
              "    </tr>\n",
              "    <tr>\n",
              "      <th>4</th>\n",
              "      <td>41</td>\n",
              "      <td>0</td>\n",
              "      <td>2</td>\n",
              "      <td>130</td>\n",
              "      <td>204</td>\n",
              "      <td>0</td>\n",
              "      <td>2</td>\n",
              "      <td>172</td>\n",
              "      <td>0</td>\n",
              "      <td>1.4</td>\n",
              "      <td>1</td>\n",
              "      <td>0</td>\n",
              "      <td>3</td>\n",
              "      <td>0</td>\n",
              "    </tr>\n",
              "  </tbody>\n",
              "</table>\n",
              "</div>\n",
              "    <div class=\"colab-df-buttons\">\n",
              "\n",
              "  <div class=\"colab-df-container\">\n",
              "    <button class=\"colab-df-convert\" onclick=\"convertToInteractive('df-3ec5ba3f-70da-4406-97ef-41b4d5a8dbcf')\"\n",
              "            title=\"Convert this dataframe to an interactive table.\"\n",
              "            style=\"display:none;\">\n",
              "\n",
              "  <svg xmlns=\"http://www.w3.org/2000/svg\" height=\"24px\" viewBox=\"0 -960 960 960\">\n",
              "    <path d=\"M120-120v-720h720v720H120Zm60-500h600v-160H180v160Zm220 220h160v-160H400v160Zm0 220h160v-160H400v160ZM180-400h160v-160H180v160Zm440 0h160v-160H620v160ZM180-180h160v-160H180v160Zm440 0h160v-160H620v160Z\"/>\n",
              "  </svg>\n",
              "    </button>\n",
              "\n",
              "  <style>\n",
              "    .colab-df-container {\n",
              "      display:flex;\n",
              "      gap: 12px;\n",
              "    }\n",
              "\n",
              "    .colab-df-convert {\n",
              "      background-color: #E8F0FE;\n",
              "      border: none;\n",
              "      border-radius: 50%;\n",
              "      cursor: pointer;\n",
              "      display: none;\n",
              "      fill: #1967D2;\n",
              "      height: 32px;\n",
              "      padding: 0 0 0 0;\n",
              "      width: 32px;\n",
              "    }\n",
              "\n",
              "    .colab-df-convert:hover {\n",
              "      background-color: #E2EBFA;\n",
              "      box-shadow: 0px 1px 2px rgba(60, 64, 67, 0.3), 0px 1px 3px 1px rgba(60, 64, 67, 0.15);\n",
              "      fill: #174EA6;\n",
              "    }\n",
              "\n",
              "    .colab-df-buttons div {\n",
              "      margin-bottom: 4px;\n",
              "    }\n",
              "\n",
              "    [theme=dark] .colab-df-convert {\n",
              "      background-color: #3B4455;\n",
              "      fill: #D2E3FC;\n",
              "    }\n",
              "\n",
              "    [theme=dark] .colab-df-convert:hover {\n",
              "      background-color: #434B5C;\n",
              "      box-shadow: 0px 1px 3px 1px rgba(0, 0, 0, 0.15);\n",
              "      filter: drop-shadow(0px 1px 2px rgba(0, 0, 0, 0.3));\n",
              "      fill: #FFFFFF;\n",
              "    }\n",
              "  </style>\n",
              "\n",
              "    <script>\n",
              "      const buttonEl =\n",
              "        document.querySelector('#df-3ec5ba3f-70da-4406-97ef-41b4d5a8dbcf button.colab-df-convert');\n",
              "      buttonEl.style.display =\n",
              "        google.colab.kernel.accessAllowed ? 'block' : 'none';\n",
              "\n",
              "      async function convertToInteractive(key) {\n",
              "        const element = document.querySelector('#df-3ec5ba3f-70da-4406-97ef-41b4d5a8dbcf');\n",
              "        const dataTable =\n",
              "          await google.colab.kernel.invokeFunction('convertToInteractive',\n",
              "                                                    [key], {});\n",
              "        if (!dataTable) return;\n",
              "\n",
              "        const docLinkHtml = 'Like what you see? Visit the ' +\n",
              "          '<a target=\"_blank\" href=https://colab.research.google.com/notebooks/data_table.ipynb>data table notebook</a>'\n",
              "          + ' to learn more about interactive tables.';\n",
              "        element.innerHTML = '';\n",
              "        dataTable['output_type'] = 'display_data';\n",
              "        await google.colab.output.renderOutput(dataTable, element);\n",
              "        const docLink = document.createElement('div');\n",
              "        docLink.innerHTML = docLinkHtml;\n",
              "        element.appendChild(docLink);\n",
              "      }\n",
              "    </script>\n",
              "  </div>\n",
              "\n",
              "\n",
              "<div id=\"df-f51c1318-4729-4a1d-87b3-934d2feff29a\">\n",
              "  <button class=\"colab-df-quickchart\" onclick=\"quickchart('df-f51c1318-4729-4a1d-87b3-934d2feff29a')\"\n",
              "            title=\"Suggest charts.\"\n",
              "            style=\"display:none;\">\n",
              "\n",
              "<svg xmlns=\"http://www.w3.org/2000/svg\" height=\"24px\"viewBox=\"0 0 24 24\"\n",
              "     width=\"24px\">\n",
              "    <g>\n",
              "        <path d=\"M19 3H5c-1.1 0-2 .9-2 2v14c0 1.1.9 2 2 2h14c1.1 0 2-.9 2-2V5c0-1.1-.9-2-2-2zM9 17H7v-7h2v7zm4 0h-2V7h2v10zm4 0h-2v-4h2v4z\"/>\n",
              "    </g>\n",
              "</svg>\n",
              "  </button>\n",
              "\n",
              "<style>\n",
              "  .colab-df-quickchart {\n",
              "    background-color: #E8F0FE;\n",
              "    border: none;\n",
              "    border-radius: 50%;\n",
              "    cursor: pointer;\n",
              "    display: none;\n",
              "    fill: #1967D2;\n",
              "    height: 32px;\n",
              "    padding: 0 0 0 0;\n",
              "    width: 32px;\n",
              "  }\n",
              "\n",
              "  .colab-df-quickchart:hover {\n",
              "    background-color: #E2EBFA;\n",
              "    box-shadow: 0px 1px 2px rgba(60, 64, 67, 0.3), 0px 1px 3px 1px rgba(60, 64, 67, 0.15);\n",
              "    fill: #174EA6;\n",
              "  }\n",
              "\n",
              "  [theme=dark] .colab-df-quickchart {\n",
              "    background-color: #3B4455;\n",
              "    fill: #D2E3FC;\n",
              "  }\n",
              "\n",
              "  [theme=dark] .colab-df-quickchart:hover {\n",
              "    background-color: #434B5C;\n",
              "    box-shadow: 0px 1px 3px 1px rgba(0, 0, 0, 0.15);\n",
              "    filter: drop-shadow(0px 1px 2px rgba(0, 0, 0, 0.3));\n",
              "    fill: #FFFFFF;\n",
              "  }\n",
              "</style>\n",
              "\n",
              "  <script>\n",
              "    async function quickchart(key) {\n",
              "      const charts = await google.colab.kernel.invokeFunction(\n",
              "          'suggestCharts', [key], {});\n",
              "    }\n",
              "    (() => {\n",
              "      let quickchartButtonEl =\n",
              "        document.querySelector('#df-f51c1318-4729-4a1d-87b3-934d2feff29a button');\n",
              "      quickchartButtonEl.style.display =\n",
              "        google.colab.kernel.accessAllowed ? 'block' : 'none';\n",
              "    })();\n",
              "  </script>\n",
              "</div>\n",
              "    </div>\n",
              "  </div>\n"
            ]
          },
          "metadata": {},
          "execution_count": 128
        }
      ],
      "source": [
        "import pandas as pd\n",
        "import numpy as np\n",
        "import matplotlib.pyplot as plt\n",
        "from tensorflow.keras.models import Sequential\n",
        "from tensorflow.keras.layers import Dense, Dropout\n",
        "\n",
        "column_name = ['age', 'sex', 'cp', 'treshbps', 'chol', 'fbs', 'restecg', 'thalach', 'exang', 'oldpeak', 'slope', 'ca', 'thal', 'HeartDisease']\n",
        "raw_data = pd.read_excel('/content/datasets/heart-disease.xlsx',\n",
        "                         header=None, names=column_name)\n",
        "raw_data.head()"
      ]
    },
    {
      "cell_type": "code",
      "source": [
        "print(raw_data.describe())"
      ],
      "metadata": {
        "id": "VMMpdlgKkMbh",
        "colab": {
          "base_uri": "https://localhost:8080/"
        },
        "outputId": "d4b8a503-52b2-41c5-9fe3-31a80f73761c"
      },
      "execution_count": null,
      "outputs": [
        {
          "output_type": "stream",
          "name": "stdout",
          "text": [
            "              age         sex          cp    treshbps         fbs     restecg  \\\n",
            "count  303.000000  303.000000  303.000000  303.000000  303.000000  303.000000   \n",
            "mean    54.438944    0.679868    3.158416  131.689769    0.148515    0.983498   \n",
            "std      9.038662    0.467299    0.960126   17.599748    0.356198    0.994883   \n",
            "min     29.000000    0.000000    1.000000   94.000000    0.000000    0.000000   \n",
            "25%     48.000000    0.000000    3.000000  120.000000    0.000000    0.000000   \n",
            "50%     56.000000    1.000000    3.000000  130.000000    0.000000    0.000000   \n",
            "75%     61.000000    1.000000    4.000000  140.000000    0.000000    2.000000   \n",
            "max     77.000000    1.000000    4.000000  200.000000    1.000000    2.000000   \n",
            "\n",
            "          thalach       exang     oldpeak       slope  HeartDisease  \n",
            "count  303.000000  303.000000  303.000000  303.000000    303.000000  \n",
            "mean   149.607261    0.326733    1.039604    1.600660      0.458746  \n",
            "std     22.875003    0.469794    1.161075    0.616226      0.499120  \n",
            "min     71.000000    0.000000    0.000000    1.000000      0.000000  \n",
            "25%    133.500000    0.000000    0.000000    1.000000      0.000000  \n",
            "50%    153.000000    0.000000    0.800000    2.000000      0.000000  \n",
            "75%    166.000000    1.000000    1.600000    2.000000      1.000000  \n",
            "max    202.000000    1.000000    6.200000    3.000000      1.000000  \n"
          ]
        }
      ]
    },
    {
      "cell_type": "markdown",
      "source": [
        "# 새 섹션"
      ],
      "metadata": {
        "id": "JEK1PAh0h_9P"
      }
    },
    {
      "cell_type": "code",
      "source": [
        "raw_data.info()"
      ],
      "metadata": {
        "colab": {
          "base_uri": "https://localhost:8080/"
        },
        "id": "UwI1LH96tIEE",
        "outputId": "3f47d987-bf4d-446b-ced6-3866918edbbf"
      },
      "execution_count": null,
      "outputs": [
        {
          "output_type": "stream",
          "name": "stdout",
          "text": [
            "<class 'pandas.core.frame.DataFrame'>\n",
            "RangeIndex: 303 entries, 0 to 302\n",
            "Data columns (total 14 columns):\n",
            " #   Column        Non-Null Count  Dtype  \n",
            "---  ------        --------------  -----  \n",
            " 0   age           303 non-null    int64  \n",
            " 1   sex           303 non-null    int64  \n",
            " 2   cp            303 non-null    int64  \n",
            " 3   treshbps      303 non-null    int64  \n",
            " 4   chol          303 non-null    object \n",
            " 5   fbs           303 non-null    int64  \n",
            " 6   restecg       303 non-null    int64  \n",
            " 7   thalach       303 non-null    int64  \n",
            " 8   exang         303 non-null    int64  \n",
            " 9   oldpeak       303 non-null    float64\n",
            " 10  slope         303 non-null    int64  \n",
            " 11  ca            303 non-null    object \n",
            " 12  thal          303 non-null    object \n",
            " 13  HeartDisease  303 non-null    int64  \n",
            "dtypes: float64(1), int64(10), object(3)\n",
            "memory usage: 33.3+ KB\n"
          ]
        }
      ]
    },
    {
      "cell_type": "code",
      "source": [
        "clean_data = raw_data.replace('?', np.nan)\n",
        "clean_data = clean_data.dropna()\n",
        "clean_data.info()"
      ],
      "metadata": {
        "colab": {
          "base_uri": "https://localhost:8080/"
        },
        "id": "E4az8waxtvOE",
        "outputId": "fd52ad70-7c00-458b-db9b-7160e212b919"
      },
      "execution_count": null,
      "outputs": [
        {
          "output_type": "stream",
          "name": "stdout",
          "text": [
            "<class 'pandas.core.frame.DataFrame'>\n",
            "Int64Index: 296 entries, 0 to 301\n",
            "Data columns (total 14 columns):\n",
            " #   Column        Non-Null Count  Dtype  \n",
            "---  ------        --------------  -----  \n",
            " 0   age           296 non-null    int64  \n",
            " 1   sex           296 non-null    int64  \n",
            " 2   cp            296 non-null    int64  \n",
            " 3   treshbps      296 non-null    int64  \n",
            " 4   chol          296 non-null    float64\n",
            " 5   fbs           296 non-null    int64  \n",
            " 6   restecg       296 non-null    int64  \n",
            " 7   thalach       296 non-null    int64  \n",
            " 8   exang         296 non-null    int64  \n",
            " 9   oldpeak       296 non-null    float64\n",
            " 10  slope         296 non-null    int64  \n",
            " 11  ca            296 non-null    float64\n",
            " 12  thal          296 non-null    float64\n",
            " 13  HeartDisease  296 non-null    int64  \n",
            "dtypes: float64(4), int64(10)\n",
            "memory usage: 34.7 KB\n"
          ]
        }
      ]
    },
    {
      "cell_type": "code",
      "source": [
        "keep = column_name.pop()\n",
        "print(keep)\n",
        "print(column_name)\n"
      ],
      "metadata": {
        "colab": {
          "base_uri": "https://localhost:8080/"
        },
        "id": "jw3Hg8POvA1r",
        "outputId": "63fd2376-58ab-4ecf-82f8-af833b8d3a29"
      },
      "execution_count": null,
      "outputs": [
        {
          "output_type": "stream",
          "name": "stdout",
          "text": [
            "HeartDisease\n",
            "['age', 'sex', 'cp', 'treshbps', 'chol', 'fbs', 'restecg', 'thalach', 'exang', 'oldpeak', 'slope', 'ca', 'thal']\n"
          ]
        }
      ]
    },
    {
      "cell_type": "code",
      "source": [
        "training_data = clean_data[column_name]\n",
        "target = clean_data[[keep]]\n",
        "print(training_data.head())\n",
        "print(target.head())"
      ],
      "metadata": {
        "colab": {
          "base_uri": "https://localhost:8080/"
        },
        "id": "1MEus4LXwHay",
        "outputId": "84cc0820-f0a6-4fa9-c89b-7ac1c05f1e8c"
      },
      "execution_count": null,
      "outputs": [
        {
          "output_type": "stream",
          "name": "stdout",
          "text": [
            "   age  sex  cp  treshbps   chol  fbs  restecg  thalach  exang  oldpeak  \\\n",
            "0   63    1   1       145  233.0    1        2      150      0      2.3   \n",
            "1   67    1   4       160  286.0    0        0      108      1      1.5   \n",
            "3   37    1   3       130  250.0    0        0      187      0      3.5   \n",
            "4   41    0   2       130  204.0    0        2      172      0      1.4   \n",
            "5   56    1   2       120  236.0    0        0      178      0      0.8   \n",
            "\n",
            "   slope   ca  thal  \n",
            "0      3  0.0   6.0  \n",
            "1      2  3.0   3.0  \n",
            "3      3  0.0   3.0  \n",
            "4      1  0.0   3.0  \n",
            "5      1  0.0   3.0  \n",
            "   HeartDisease\n",
            "0             0\n",
            "1             1\n",
            "3             0\n",
            "4             0\n",
            "5             0\n"
          ]
        }
      ]
    },
    {
      "cell_type": "code",
      "source": [
        "print(target['HeartDisease'].sum())"
      ],
      "metadata": {
        "colab": {
          "base_uri": "https://localhost:8080/"
        },
        "id": "5D3fVUdLwyLk",
        "outputId": "1cbbcd56-3da6-4be9-a3d4-cb3dc3f09d3c"
      },
      "execution_count": null,
      "outputs": [
        {
          "output_type": "stream",
          "name": "stdout",
          "text": [
            "136\n"
          ]
        }
      ]
    },
    {
      "cell_type": "code",
      "source": [
        "print(target['HeartDisease'].mean())"
      ],
      "metadata": {
        "colab": {
          "base_uri": "https://localhost:8080/"
        },
        "id": "No5ef_qWxMah",
        "outputId": "0d84b700-3549-41b8-c3b5-86a071a81aad"
      },
      "execution_count": null,
      "outputs": [
        {
          "output_type": "stream",
          "name": "stdout",
          "text": [
            "0.4594594594594595\n"
          ]
        }
      ]
    },
    {
      "cell_type": "code",
      "source": [
        "from sklearn.preprocessing import StandardScaler\n",
        "scaler = StandardScaler()\n",
        "scaled_data = scaler.fit_transform(training_data)\n",
        "scaled_data = pd.DataFrame(scaled_data, columns=column_name)\n",
        "print(scaled_data.head())\n",
        "\n"
      ],
      "metadata": {
        "colab": {
          "base_uri": "https://localhost:8080/"
        },
        "id": "YFWQ3VkeyrqR",
        "outputId": "e9c395f8-2f26-4bec-fee9-6ccceab7cfe0"
      },
      "execution_count": null,
      "outputs": [
        {
          "output_type": "stream",
          "name": "stdout",
          "text": [
            "        age       sex        cp  treshbps      chol       fbs   restecg  \\\n",
            "0  0.942285  0.692820 -2.236793  0.747441 -0.277228  2.425638  1.020526   \n",
            "1  1.385714  0.692820  0.876486  1.592523  0.742265 -0.412263 -0.993312   \n",
            "2 -1.939999  0.692820 -0.161274 -0.097641  0.049779 -0.412263 -0.993312   \n",
            "3 -1.496571 -1.443376 -1.199033 -0.097641 -0.835064 -0.412263  1.020526   \n",
            "4  0.166286  0.692820 -1.199033 -0.661029 -0.219521 -0.412263 -0.993312   \n",
            "\n",
            "    thalach     exang   oldpeak     slope        ca      thal  \n",
            "0  0.014451 -0.692820  1.074839  2.264087 -0.718421  0.660262  \n",
            "1 -1.818794  1.443376  0.386756  0.645320  2.487397 -0.890830  \n",
            "2  1.629453 -0.692820  2.106963  2.264087 -0.718421 -0.890830  \n",
            "3  0.974723 -0.692820  0.300746 -0.973448 -0.718421 -0.890830  \n",
            "4  1.236615 -0.692820 -0.215316 -0.973448 -0.718421 -0.890830  \n"
          ]
        }
      ]
    },
    {
      "cell_type": "code",
      "source": [
        "print(scaled_data.describe())\n"
      ],
      "metadata": {
        "colab": {
          "base_uri": "https://localhost:8080/"
        },
        "id": "6x1V1IftzzWO",
        "outputId": "dd2a5c1e-d93b-4937-ed8b-ef5078ede646"
      },
      "execution_count": null,
      "outputs": [
        {
          "output_type": "stream",
          "name": "stdout",
          "text": [
            "                age           sex            cp      treshbps          chol  \\\n",
            "count  2.960000e+02  2.960000e+02  2.960000e+02  2.960000e+02  2.960000e+02   \n",
            "mean   3.000603e-18  6.001206e-18  1.140229e-16  5.911187e-16  1.500301e-17   \n",
            "std    1.001693e+00  1.001693e+00  1.001693e+00  1.001693e+00  1.001693e+00   \n",
            "min   -2.826856e+00 -1.443376e+00 -2.236793e+00 -2.125838e+00 -2.335451e+00   \n",
            "25%   -7.205712e-01 -1.443376e+00 -1.612735e-01 -6.610293e-01 -7.004143e-01   \n",
            "50%    1.662857e-01  6.928203e-01 -1.612735e-01 -9.764125e-02 -8.487113e-02   \n",
            "75%    7.205712e-01  6.928203e-01  8.764865e-01  4.657468e-01  5.547167e-01   \n",
            "max    2.494285e+00  6.928203e-01  8.764865e-01  3.846075e+00  6.089796e+00   \n",
            "\n",
            "                fbs       restecg       thalach         exang       oldpeak  \\\n",
            "count  2.960000e+02  2.960000e+02  2.960000e+02  2.960000e+02  2.960000e+02   \n",
            "mean   1.200241e-17 -2.400482e-17  6.001206e-16 -9.001808e-18 -1.200241e-17   \n",
            "std    1.001693e+00  1.001693e+00  1.001693e+00  1.001693e+00  1.001693e+00   \n",
            "min   -4.122626e-01 -9.933122e-01 -3.433796e+00 -6.928203e-01 -9.033993e-01   \n",
            "25%   -4.122626e-01 -9.933122e-01 -6.948401e-01 -6.928203e-01 -9.033993e-01   \n",
            "50%   -4.122626e-01 -4.898526e-01  1.453973e-01 -6.928203e-01 -2.153165e-01   \n",
            "75%   -4.122626e-01  1.020526e+00  7.128304e-01  1.443376e+00  4.727664e-01   \n",
            "max    2.425638e+00  1.020526e+00  2.284183e+00  1.443376e+00  4.429243e+00   \n",
            "\n",
            "              slope            ca          thal  \n",
            "count  2.960000e+02  2.960000e+02  2.960000e+02  \n",
            "mean   4.200844e-17 -1.200241e-17  5.401085e-17  \n",
            "std    1.001693e+00  1.001693e+00  1.001693e+00  \n",
            "min   -9.734482e-01 -7.184209e-01 -8.908300e-01  \n",
            "25%   -9.734482e-01 -7.184209e-01 -8.908300e-01  \n",
            "50%    6.453196e-01 -7.184209e-01 -8.908300e-01  \n",
            "75%    6.453196e-01  3.501851e-01  1.177293e+00  \n",
            "max    2.264087e+00  2.487397e+00  1.177293e+00  \n"
          ]
        }
      ]
    },
    {
      "cell_type": "code",
      "source": [
        "print(scaled_data.describe().T)"
      ],
      "metadata": {
        "colab": {
          "base_uri": "https://localhost:8080/"
        },
        "id": "pBEwnBpA1CQZ",
        "outputId": "54ec0405-55f4-4950-e146-cd52d970d98b"
      },
      "execution_count": null,
      "outputs": [
        {
          "output_type": "stream",
          "name": "stdout",
          "text": [
            "          count          mean       std       min       25%       50%  \\\n",
            "age       296.0  3.000603e-18  1.001693 -2.826856 -0.720571  0.166286   \n",
            "sex       296.0  6.001206e-18  1.001693 -1.443376 -1.443376  0.692820   \n",
            "cp        296.0  1.140229e-16  1.001693 -2.236793 -0.161274 -0.161274   \n",
            "treshbps  296.0  5.911187e-16  1.001693 -2.125838 -0.661029 -0.097641   \n",
            "chol      296.0  1.500301e-17  1.001693 -2.335451 -0.700414 -0.084871   \n",
            "fbs       296.0  1.200241e-17  1.001693 -0.412263 -0.412263 -0.412263   \n",
            "restecg   296.0 -2.400482e-17  1.001693 -0.993312 -0.993312 -0.489853   \n",
            "thalach   296.0  6.001206e-16  1.001693 -3.433796 -0.694840  0.145397   \n",
            "exang     296.0 -9.001808e-18  1.001693 -0.692820 -0.692820 -0.692820   \n",
            "oldpeak   296.0 -1.200241e-17  1.001693 -0.903399 -0.903399 -0.215316   \n",
            "slope     296.0  4.200844e-17  1.001693 -0.973448 -0.973448  0.645320   \n",
            "ca        296.0 -1.200241e-17  1.001693 -0.718421 -0.718421 -0.718421   \n",
            "thal      296.0  5.401085e-17  1.001693 -0.890830 -0.890830 -0.890830   \n",
            "\n",
            "               75%       max  \n",
            "age       0.720571  2.494285  \n",
            "sex       0.692820  0.692820  \n",
            "cp        0.876486  0.876486  \n",
            "treshbps  0.465747  3.846075  \n",
            "chol      0.554717  6.089796  \n",
            "fbs      -0.412263  2.425638  \n",
            "restecg   1.020526  1.020526  \n",
            "thalach   0.712830  2.284183  \n",
            "exang     1.443376  1.443376  \n",
            "oldpeak   0.472766  4.429243  \n",
            "slope     0.645320  2.264087  \n",
            "ca        0.350185  2.487397  \n",
            "thal      1.177293  1.177293  \n"
          ]
        }
      ]
    },
    {
      "cell_type": "code",
      "source": [
        "boxplot = scaled_data.boxplot(column = column_name, showmeans = True)\n",
        "plt.show()"
      ],
      "metadata": {
        "colab": {
          "base_uri": "https://localhost:8080/",
          "height": 430
        },
        "id": "IAkaiPsH1QZP",
        "outputId": "f8f6de76-9ca1-47d7-a693-eb185da8fc72"
      },
      "execution_count": null,
      "outputs": [
        {
          "output_type": "display_data",
          "data": {
            "text/plain": [
              "<Figure size 640x480 with 1 Axes>"
            ],
            "image/png": "[encoded data removed]"
          },
          "metadata": {}
        }
      ]
    },
    {
      "cell_type": "code",
      "source": [
        "from sklearn.model_selection import train_test_split\n",
        "X_train, X_test, Y_train, Y_test = train_test_split(\n",
        "    scaled_data, target, test_size = 0.3)\n",
        "print('X_train shape :', X_train.shape)\n",
        "print('Y_train shape :', Y_train.shape)\n",
        "print('X_test shape :', X_test.shape)\n",
        "print('Y_test shape :', Y_test.shape)\n",
        "\n"
      ],
      "metadata": {
        "colab": {
          "base_uri": "https://localhost:8080/"
        },
        "id": "MTeJzPaK7aEs",
        "outputId": "7b6bca5b-372c-43b1-d816-2653df134cbb"
      },
      "execution_count": null,
      "outputs": [
        {
          "output_type": "stream",
          "name": "stdout",
          "text": [
            "X_train shape : (207, 13)\n",
            "Y_train shape : (207, 1)\n",
            "X_test shape : (89, 13)\n",
            "Y_test shape : (89, 1)\n"
          ]
        }
      ]
    },
    {
      "cell_type": "code",
      "source": [
        "model = Sequential()\n",
        "model.add(Dense(512, input_dim = 13, activation ='relu'))\n",
        "model.add(Dropout(0.25))\n",
        "model.add(Dense(256, activation = 'relu'))\n",
        "model.add(Dropout(0.1))\n",
        "model.add(Dense(128, activation = 'relu'))\n",
        "model.add(Dropout(0.1))\n",
        "model.add(Dense(1, activation = 'sigmoid'))\n",
        "print(model.summary())\n",
        "\n"
      ],
      "metadata": {
        "colab": {
          "base_uri": "https://localhost:8080/"
        },
        "id": "EeOd-AMz8eLe",
        "outputId": "7b804735-2b60-4682-e672-34301b0cf62d"
      },
      "execution_count": null,
      "outputs": [
        {
          "output_type": "stream",
          "name": "stdout",
          "text": [
            "Model: \"sequential_4\"\n",
            "_________________________________________________________________\n",
            " Layer (type)                Output Shape              Param #   \n",
            "=================================================================\n",
            " dense_16 (Dense)            (None, 512)               7168      \n",
            "                                                                 \n",
            " dropout_12 (Dropout)        (None, 512)               0         \n",
            "                                                                 \n",
            " dense_17 (Dense)            (None, 256)               131328    \n",
            "                                                                 \n",
            " dropout_13 (Dropout)        (None, 256)               0         \n",
            "                                                                 \n",
            " dense_18 (Dense)            (None, 128)               32896     \n",
            "                                                                 \n",
            " dropout_14 (Dropout)        (None, 128)               0         \n",
            "                                                                 \n",
            " dense_19 (Dense)            (None, 1)                 129       \n",
            "                                                                 \n",
            "=================================================================\n",
            "Total params: 171,521\n",
            "Trainable params: 171,521\n",
            "Non-trainable params: 0\n",
            "_________________________________________________________________\n",
            "None\n"
          ]
        }
      ]
    },
    {
      "cell_type": "code",
      "source": [
        "model.compile(loss='mse', optimizer='adam', metrics=['binary_accuracy'])\n",
        "fit_hist = model.fit(\n",
        "    X_train, Y_train, batch_size=50, epochs=50,\n",
        "    validation_split=0.2, verbose=1)\n"
      ],
      "metadata": {
        "colab": {
          "base_uri": "https://localhost:8080/"
        },
        "id": "Foykdb8T9Q_M",
        "outputId": "9dda356c-9577-46c2-c85b-11ecdebced31"
      },
      "execution_count": null,
      "outputs": [
        {
          "output_type": "stream",
          "name": "stdout",
          "text": [
            "Epoch 1/50\n",
            "4/4 [==============================] - 1s 50ms/step - loss: 0.2173 - binary_accuracy: 0.6727 - val_loss: 0.1684 - val_binary_accuracy: 0.8095\n",
            "Epoch 2/50\n",
            "4/4 [==============================] - 0s 12ms/step - loss: 0.1540 - binary_accuracy: 0.8182 - val_loss: 0.1316 - val_binary_accuracy: 0.8095\n",
            "Epoch 3/50\n",
            "4/4 [==============================] - 0s 12ms/step - loss: 0.1292 - binary_accuracy: 0.8242 - val_loss: 0.1220 - val_binary_accuracy: 0.8095\n",
            "Epoch 4/50\n",
            "4/4 [==============================] - 0s 12ms/step - loss: 0.1191 - binary_accuracy: 0.8485 - val_loss: 0.1221 - val_binary_accuracy: 0.8333\n",
            "Epoch 5/50\n",
            "4/4 [==============================] - 0s 12ms/step - loss: 0.1086 - binary_accuracy: 0.8545 - val_loss: 0.1221 - val_binary_accuracy: 0.8571\n",
            "Epoch 6/50\n",
            "4/4 [==============================] - 0s 13ms/step - loss: 0.1002 - binary_accuracy: 0.8727 - val_loss: 0.1261 - val_binary_accuracy: 0.8810\n",
            "Epoch 7/50\n",
            "4/4 [==============================] - 0s 12ms/step - loss: 0.0833 - binary_accuracy: 0.8848 - val_loss: 0.1339 - val_binary_accuracy: 0.8333\n",
            "Epoch 8/50\n",
            "4/4 [==============================] - 0s 14ms/step - loss: 0.0843 - binary_accuracy: 0.8848 - val_loss: 0.1388 - val_binary_accuracy: 0.8333\n",
            "Epoch 9/50\n",
            "4/4 [==============================] - 0s 12ms/step - loss: 0.0824 - binary_accuracy: 0.8970 - val_loss: 0.1400 - val_binary_accuracy: 0.8333\n",
            "Epoch 10/50\n",
            "4/4 [==============================] - 0s 11ms/step - loss: 0.0744 - binary_accuracy: 0.9333 - val_loss: 0.1416 - val_binary_accuracy: 0.8333\n",
            "Epoch 11/50\n",
            "4/4 [==============================] - 0s 13ms/step - loss: 0.0730 - binary_accuracy: 0.9030 - val_loss: 0.1401 - val_binary_accuracy: 0.8095\n",
            "Epoch 12/50\n",
            "4/4 [==============================] - 0s 11ms/step - loss: 0.0684 - binary_accuracy: 0.9273 - val_loss: 0.1410 - val_binary_accuracy: 0.8095\n",
            "Epoch 13/50\n",
            "4/4 [==============================] - 0s 12ms/step - loss: 0.0582 - binary_accuracy: 0.9455 - val_loss: 0.1410 - val_binary_accuracy: 0.8333\n",
            "Epoch 14/50\n",
            "4/4 [==============================] - 0s 13ms/step - loss: 0.0525 - binary_accuracy: 0.9515 - val_loss: 0.1488 - val_binary_accuracy: 0.8095\n",
            "Epoch 15/50\n",
            "4/4 [==============================] - 0s 15ms/step - loss: 0.0543 - binary_accuracy: 0.9333 - val_loss: 0.1632 - val_binary_accuracy: 0.7857\n",
            "Epoch 16/50\n",
            "4/4 [==============================] - 0s 14ms/step - loss: 0.0530 - binary_accuracy: 0.9515 - val_loss: 0.1605 - val_binary_accuracy: 0.8095\n",
            "Epoch 17/50\n",
            "4/4 [==============================] - 0s 16ms/step - loss: 0.0480 - binary_accuracy: 0.9455 - val_loss: 0.1621 - val_binary_accuracy: 0.7857\n",
            "Epoch 18/50\n",
            "4/4 [==============================] - 0s 15ms/step - loss: 0.0391 - binary_accuracy: 0.9576 - val_loss: 0.1654 - val_binary_accuracy: 0.7857\n",
            "Epoch 19/50\n",
            "4/4 [==============================] - 0s 15ms/step - loss: 0.0401 - binary_accuracy: 0.9455 - val_loss: 0.1701 - val_binary_accuracy: 0.7857\n",
            "Epoch 20/50\n",
            "4/4 [==============================] - 0s 16ms/step - loss: 0.0351 - binary_accuracy: 0.9576 - val_loss: 0.1734 - val_binary_accuracy: 0.7857\n",
            "Epoch 21/50\n",
            "4/4 [==============================] - 0s 14ms/step - loss: 0.0297 - binary_accuracy: 0.9818 - val_loss: 0.1848 - val_binary_accuracy: 0.7857\n",
            "Epoch 22/50\n",
            "4/4 [==============================] - 0s 14ms/step - loss: 0.0389 - binary_accuracy: 0.9636 - val_loss: 0.1832 - val_binary_accuracy: 0.7857\n",
            "Epoch 23/50\n",
            "4/4 [==============================] - 0s 15ms/step - loss: 0.0275 - binary_accuracy: 0.9636 - val_loss: 0.1727 - val_binary_accuracy: 0.8095\n",
            "Epoch 24/50\n",
            "4/4 [==============================] - 0s 17ms/step - loss: 0.0260 - binary_accuracy: 0.9818 - val_loss: 0.1705 - val_binary_accuracy: 0.8095\n",
            "Epoch 25/50\n",
            "4/4 [==============================] - 0s 14ms/step - loss: 0.0269 - binary_accuracy: 0.9697 - val_loss: 0.1798 - val_binary_accuracy: 0.7857\n",
            "Epoch 26/50\n",
            "4/4 [==============================] - 0s 17ms/step - loss: 0.0273 - binary_accuracy: 0.9758 - val_loss: 0.1882 - val_binary_accuracy: 0.7857\n",
            "Epoch 27/50\n",
            "4/4 [==============================] - 0s 17ms/step - loss: 0.0269 - binary_accuracy: 0.9697 - val_loss: 0.1782 - val_binary_accuracy: 0.8095\n",
            "Epoch 28/50\n",
            "4/4 [==============================] - 0s 19ms/step - loss: 0.0233 - binary_accuracy: 0.9758 - val_loss: 0.1746 - val_binary_accuracy: 0.8095\n",
            "Epoch 29/50\n",
            "4/4 [==============================] - 0s 20ms/step - loss: 0.0185 - binary_accuracy: 0.9879 - val_loss: 0.1775 - val_binary_accuracy: 0.8095\n",
            "Epoch 30/50\n",
            "4/4 [==============================] - 0s 14ms/step - loss: 0.0232 - binary_accuracy: 0.9758 - val_loss: 0.1833 - val_binary_accuracy: 0.8095\n",
            "Epoch 31/50\n",
            "4/4 [==============================] - 0s 18ms/step - loss: 0.0194 - binary_accuracy: 0.9818 - val_loss: 0.1861 - val_binary_accuracy: 0.8095\n",
            "Epoch 32/50\n",
            "4/4 [==============================] - 0s 16ms/step - loss: 0.0180 - binary_accuracy: 0.9758 - val_loss: 0.1869 - val_binary_accuracy: 0.8095\n",
            "Epoch 33/50\n",
            "4/4 [==============================] - 0s 12ms/step - loss: 0.0216 - binary_accuracy: 0.9697 - val_loss: 0.1969 - val_binary_accuracy: 0.7857\n",
            "Epoch 34/50\n",
            "4/4 [==============================] - 0s 12ms/step - loss: 0.0212 - binary_accuracy: 0.9758 - val_loss: 0.1960 - val_binary_accuracy: 0.7619\n",
            "Epoch 35/50\n",
            "4/4 [==============================] - 0s 11ms/step - loss: 0.0160 - binary_accuracy: 0.9879 - val_loss: 0.1962 - val_binary_accuracy: 0.7857\n",
            "Epoch 36/50\n",
            "4/4 [==============================] - 0s 12ms/step - loss: 0.0203 - binary_accuracy: 0.9818 - val_loss: 0.1990 - val_binary_accuracy: 0.7857\n",
            "Epoch 37/50\n",
            "4/4 [==============================] - 0s 11ms/step - loss: 0.0183 - binary_accuracy: 0.9879 - val_loss: 0.1955 - val_binary_accuracy: 0.7857\n",
            "Epoch 38/50\n",
            "4/4 [==============================] - 0s 14ms/step - loss: 0.0155 - binary_accuracy: 0.9879 - val_loss: 0.1916 - val_binary_accuracy: 0.7857\n",
            "Epoch 39/50\n",
            "4/4 [==============================] - 0s 13ms/step - loss: 0.0139 - binary_accuracy: 0.9879 - val_loss: 0.1902 - val_binary_accuracy: 0.7857\n",
            "Epoch 40/50\n",
            "4/4 [==============================] - 0s 12ms/step - loss: 0.0151 - binary_accuracy: 0.9879 - val_loss: 0.1930 - val_binary_accuracy: 0.7857\n",
            "Epoch 41/50\n",
            "4/4 [==============================] - 0s 12ms/step - loss: 0.0165 - binary_accuracy: 0.9818 - val_loss: 0.1932 - val_binary_accuracy: 0.7857\n",
            "Epoch 42/50\n",
            "4/4 [==============================] - 0s 13ms/step - loss: 0.0139 - binary_accuracy: 0.9879 - val_loss: 0.1941 - val_binary_accuracy: 0.7857\n",
            "Epoch 43/50\n",
            "4/4 [==============================] - 0s 17ms/step - loss: 0.0144 - binary_accuracy: 0.9879 - val_loss: 0.1952 - val_binary_accuracy: 0.7857\n",
            "Epoch 44/50\n",
            "4/4 [==============================] - 0s 13ms/step - loss: 0.0170 - binary_accuracy: 0.9818 - val_loss: 0.1888 - val_binary_accuracy: 0.7857\n",
            "Epoch 45/50\n",
            "4/4 [==============================] - 0s 14ms/step - loss: 0.0143 - binary_accuracy: 0.9879 - val_loss: 0.1820 - val_binary_accuracy: 0.8095\n",
            "Epoch 46/50\n",
            "4/4 [==============================] - 0s 11ms/step - loss: 0.0128 - binary_accuracy: 0.9879 - val_loss: 0.1794 - val_binary_accuracy: 0.8095\n",
            "Epoch 47/50\n",
            "4/4 [==============================] - 0s 10ms/step - loss: 0.0141 - binary_accuracy: 0.9879 - val_loss: 0.1809 - val_binary_accuracy: 0.8095\n",
            "Epoch 48/50\n",
            "4/4 [==============================] - 0s 11ms/step - loss: 0.0140 - binary_accuracy: 0.9879 - val_loss: 0.1788 - val_binary_accuracy: 0.8095\n",
            "Epoch 49/50\n",
            "4/4 [==============================] - 0s 11ms/step - loss: 0.0134 - binary_accuracy: 0.9879 - val_loss: 0.1782 - val_binary_accuracy: 0.8095\n",
            "Epoch 50/50\n",
            "4/4 [==============================] - 0s 11ms/step - loss: 0.0143 - binary_accuracy: 0.9879 - val_loss: 0.1944 - val_binary_accuracy: 0.7857\n"
          ]
        }
      ]
    },
    {
      "cell_type": "code",
      "source": [
        "plt.plot(fit_hist.history['binary_accuracy'])\n",
        "plt.plot(fit_hist.history['val_binary_accuracy'])\n",
        "plt.show()\n"
      ],
      "metadata": {
        "colab": {
          "base_uri": "https://localhost:8080/",
          "height": 431
        },
        "id": "w-5i2Rw4Bi28",
        "outputId": "99535fe5-ed09-4d2d-f88f-a876c4082860"
      },
      "execution_count": null,
      "outputs": [
        {
          "output_type": "display_data",
          "data": {
            "text/plain": [
              "<Figure size 640x480 with 1 Axes>"
            ],
            "image/png": "[encoded data removed]"
          },
          "metadata": {}
        }
      ]
    }
  ]
}